{
  "nbformat": 4,
  "nbformat_minor": 0,
  "metadata": {
    "colab": {
      "name": "Untitled21.ipynb",
      "provenance": [],
      "include_colab_link": true
    },
    "kernelspec": {
      "name": "python3",
      "display_name": "Python 3"
    },
    "language_info": {
      "name": "python"
    }
  },
  "cells": [
    {
      "cell_type": "markdown",
      "metadata": {
        "id": "view-in-github",
        "colab_type": "text"
      },
      "source": [
        "<a href=\"https://colab.research.google.com/github/Gokcimen/colabprojects/blob/main/colabGoogleDriveConnection.ipynb\" target=\"_parent\"><img src=\"https://colab.research.google.com/assets/colab-badge.svg\" alt=\"Open In Colab\"/></a>"
      ]
    },
    {
      "cell_type": "code",
      "metadata": {
        "colab": {
          "base_uri": "https://localhost:8080/",
          "height": 133
        },
        "id": "AJtxdtlPDpW9",
        "outputId": "ed7221ea-efb7-46de-fa22-79205c88b0f6"
      },
      "source": [
        "git remote add origin https://github.com/Gokcimen/applications.git\n",
        "git branch -M main\n",
        "git push -u origin main"
      ],
      "execution_count": 1,
      "outputs": [
        {
          "output_type": "error",
          "ename": "SyntaxError",
          "evalue": "ignored",
          "traceback": [
            "\u001b[0;36m  File \u001b[0;32m\"<ipython-input-1-309299fd7334>\"\u001b[0;36m, line \u001b[0;32m1\u001b[0m\n\u001b[0;31m    git remote add origin https://github.com/Gokcimen/applications.git\u001b[0m\n\u001b[0m             ^\u001b[0m\n\u001b[0;31mSyntaxError\u001b[0m\u001b[0;31m:\u001b[0m invalid syntax\n"
          ]
        }
      ]
    },
    {
      "cell_type": "markdown",
      "metadata": {
        "id": "yaJrQrkQ-R_a"
      },
      "source": [
        "# Google Drive Bağlantısı "
      ]
    },
    {
      "cell_type": "code",
      "metadata": {
        "id": "nNv1p3kC-S-Y"
      },
      "source": [
        "import pandas as pd\n",
        "from google.colab import drive #Google drive'ımızda bulunan veri  setine bağlantı için\n",
        "drive.mount(\"/content/drive\")\n",
        "df = pd.read_excel(\"/content/drive/MyDrive/Colab Notebooks/***********.xlsx\")\n",
        "df.info()"
      ],
      "execution_count": null,
      "outputs": []
    },
    {
      "cell_type": "markdown",
      "metadata": {
        "id": "PvHbH6zv_CTc"
      },
      "source": [
        "*xlsx* file read"
      ]
    },
    {
      "cell_type": "code",
      "metadata": {
        "id": "PCKX0yeK-nel"
      },
      "source": [
        "from google.colab import drive #Google drive'ımızda bulunan veri  setine bağlantı için\n",
        "drive.mount(\"/content/drive\")\n",
        "df = pd.read_csv(\"/content/drive/MyDrive/Colab Notebooks/***********.csv\", encoding='utf-8',engine ='python',error_bad_lines=False)\n",
        "df.info()"
      ],
      "execution_count": null,
      "outputs": []
    },
    {
      "cell_type": "markdown",
      "metadata": {
        "id": "KRvOZy7X_HZN"
      },
      "source": [
        "csv file read"
      ]
    }
  ]
}